{
 "cells": [
  {
   "cell_type": "code",
   "execution_count": 1,
   "metadata": {},
   "outputs": [],
   "source": [
    "import pandas as pd\n",
    "from sklearn.model_selection import train_test_split\n",
    "from tensorflow.keras.preprocessing.text import Tokenizer\n",
    "from tensorflow.keras.preprocessing.sequence import pad_sequences\n",
    "from tensorflow.keras.utils import to_categorical\n",
    "from tensorflow.keras.models import Sequential\n",
    "from tensorflow.keras.layers import Embedding, Conv1D, MaxPooling1D, GlobalMaxPooling1D, Dense, Dropout\n",
    "from sklearn.preprocessing import LabelEncoder\n"
   ]
  },
  {
   "cell_type": "code",
   "execution_count": 2,
   "metadata": {},
   "outputs": [
    {
     "name": "stdout",
     "output_type": "stream",
     "text": [
      "                              command       intent\n",
      "0                      can I eat snow  SearchQuery\n",
      "1         can I drink coffee at night  SearchQuery\n",
      "2            how do I fix my computer  SearchQuery\n",
      "3  where to go during school holidays  SearchQuery\n",
      "4       what are popular places to go  SearchQuery\n"
     ]
    }
   ],
   "source": [
    "train = pd.read_csv(\"queries.csv\")\n",
    "\n",
    "commands = train['command'].values\n",
    "intents = train['intent'].values\n",
    "\n",
    "print(train.head())\n",
    "train['intent'].value_counts(normalize = True)\n",
    "\n",
    "assert train['intent'].isna().sum() == 0, \"There are NaN values in the 'intent' column\"\n",
    "assert train['command'].isna().sum() == 0, \"There are NaN values in the 'command' column\""
   ]
  },
  {
   "cell_type": "code",
   "execution_count": 3,
   "metadata": {},
   "outputs": [],
   "source": [
    "# Tokenize the text\n",
    "tokenizer = Tokenizer()\n",
    "tokenizer.fit_on_texts(commands)\n",
    "sequences = tokenizer.texts_to_sequences(commands)\n",
    "word_index = tokenizer.word_index\n",
    "\n",
    "# Pad sequences\n",
    "max_sequence_length = 100\n",
    "data = pad_sequences(sequences, maxlen=max_sequence_length)\n",
    "\n",
    "# Optionally save the tokenizer for future use\n",
    "import pickle\n",
    "with open('tokenizer.pkl', 'wb') as f:\n",
    "    pickle.dump(tokenizer, f)"
   ]
  },
  {
   "cell_type": "code",
   "execution_count": 4,
   "metadata": {},
   "outputs": [],
   "source": [
    "import numpy as np\n",
    "label_encoder = LabelEncoder()\n",
    "labels = label_encoder.fit_transform(intents)\n",
    "labels = to_categorical(labels)\n",
    "\n",
    "np.save('classes.npy', label_encoder.classes_)"
   ]
  },
  {
   "cell_type": "code",
   "execution_count": 5,
   "metadata": {},
   "outputs": [],
   "source": [
    "# Split data into training and validation sets\n",
    "X_train, X_val, y_train, y_val = train_test_split(data, labels, test_size=0.2, random_state=42)"
   ]
  },
  {
   "cell_type": "code",
   "execution_count": 6,
   "metadata": {},
   "outputs": [],
   "source": [
    "import numpy as np\n",
    "\n",
    "# Load GloVe embeddings\n",
    "embedding_index = {}\n",
    "with open('glove.6B.100d.txt', encoding='utf-8') as f:\n",
    "    for line in f:\n",
    "        values = line.split()\n",
    "        word = values[0]\n",
    "        coefs = np.asarray(values[1:], dtype='float32')\n",
    "        embedding_index[word] = coefs\n",
    "\n",
    "# Create embedding matrix\n",
    "embedding_dim = 100\n",
    "embedding_matrix = np.zeros((len(word_index) + 1, embedding_dim))\n",
    "for word, i in word_index.items():\n",
    "    embedding_vector = embedding_index.get(word)\n",
    "    if embedding_vector is not None:\n",
    "        embedding_matrix[i] = embedding_vector\n"
   ]
  },
  {
   "cell_type": "code",
   "execution_count": 7,
   "metadata": {},
   "outputs": [
    {
     "name": "stdout",
     "output_type": "stream",
     "text": [
      "4\n"
     ]
    }
   ],
   "source": [
    "print(len(label_encoder.classes_))"
   ]
  },
  {
   "cell_type": "code",
   "execution_count": 8,
   "metadata": {},
   "outputs": [
    {
     "name": "stderr",
     "output_type": "stream",
     "text": [
      "c:\\Users\\Chrystal Lim\\anaconda3\\envs\\intent\\Lib\\site-packages\\keras\\src\\layers\\core\\embedding.py:90: UserWarning: Argument `input_length` is deprecated. Just remove it.\n",
      "  warnings.warn(\n",
      "c:\\Users\\Chrystal Lim\\anaconda3\\envs\\intent\\Lib\\site-packages\\keras\\src\\layers\\activations\\leaky_relu.py:41: UserWarning: Argument `alpha` is deprecated. Use `negative_slope` instead.\n",
      "  warnings.warn(\n"
     ]
    }
   ],
   "source": [
    "from keras.models import Sequential\n",
    "from tensorflow.keras.regularizers import l2\n",
    "from keras.layers import Embedding, Conv1D, MaxPooling1D, GlobalMaxPooling1D, Dense, Dropout\n",
    "from tensorflow.keras.callbacks import ModelCheckpoint, EarlyStopping, ReduceLROnPlateau\n",
    "from tensorflow.keras.optimizers import RMSprop, Adam, SGD\n",
    "from tensorflow.keras.models import Model\n",
    "from tensorflow.keras.layers import Embedding, Conv1D, MaxPooling1D, Flatten, Dense, Dropout, BatchNormalization, LeakyReLU\n",
    "\n",
    "\n",
    "model = Sequential()\n",
    "model.add(Embedding(len(word_index) + 1, embedding_dim, weights=[embedding_matrix], input_length=max_sequence_length, trainable=False))\n",
    "model.add(Conv1D(filters=64, kernel_size=8))\n",
    "model.add(LeakyReLU(alpha=0.025))\n",
    "model.add(Conv1D(128, 8, padding='same'))\n",
    "model.add(LeakyReLU(alpha=0.02))\n",
    "model.add(Conv1D(128, 8, padding='same'))\n",
    "model.add(LeakyReLU(alpha=0.015))\n",
    "model.add(Conv1D(64, 8, padding='same'))\n",
    "model.add(LeakyReLU(alpha=0.01))\n",
    "model.add(Dropout(0.1))\n",
    "model.add(MaxPooling1D(pool_size=2))\n",
    "model.add(Flatten())\n",
    "\n",
    "model.add(Dense(128))\n",
    "model.add(LeakyReLU(alpha=0.015))\n",
    "model.add(Dense(128))\n",
    "model.add(LeakyReLU(alpha=0.01))\n",
    "model.add(Dense(64))\n",
    "model.add(LeakyReLU(alpha=0.015))\n",
    "model.add(Dense(32, activation='relu'))\n",
    "model.add(BatchNormalization())\n",
    "model.add(Dense(10, activation='relu'))\n",
    "model.add(Dropout(0.35))\n",
    "model.add(Dense(len(label_encoder.classes_), activation='softmax'))\n"
   ]
  },
  {
   "cell_type": "code",
   "execution_count": 9,
   "metadata": {},
   "outputs": [],
   "source": [
    "model_checkpoint_filepath = \"classify_intent.keras\"\n",
    "callbacks_checkpoint = ModelCheckpoint(\n",
    "    filepath=model_checkpoint_filepath,\n",
    "    save_weights_only=False,\n",
    "    monitor=\"val_accuracy\",#val_loss\n",
    "    mode=\"max\",#max\n",
    "    save_best_only=True\n",
    ")\n",
    "\n",
    "early_stop = EarlyStopping(\n",
    "    monitor='val_loss',  # Metric to monitor\n",
    "    patience=12,         # Number of epochs to wait for improvement\n",
    "    restore_best_weights=True  # Restore the model weights from the epoch with the best value of the monitored metric\n",
    ")"
   ]
  },
  {
   "cell_type": "code",
   "execution_count": 10,
   "metadata": {},
   "outputs": [
    {
     "name": "stdout",
     "output_type": "stream",
     "text": [
      "Epoch 1/70\n",
      "8/8 - 2s - 304ms/step - accuracy: 0.3523 - loss: 1.3609 - val_accuracy: 0.6531 - val_loss: 1.3735\n",
      "Epoch 2/70\n",
      "8/8 - 0s - 18ms/step - accuracy: 0.5233 - loss: 1.2110 - val_accuracy: 0.6122 - val_loss: 1.3497\n",
      "Epoch 3/70\n",
      "8/8 - 0s - 17ms/step - accuracy: 0.5803 - loss: 1.0717 - val_accuracy: 0.6122 - val_loss: 1.3316\n",
      "Epoch 4/70\n",
      "8/8 - 0s - 16ms/step - accuracy: 0.6010 - loss: 1.0044 - val_accuracy: 0.6531 - val_loss: 1.2961\n",
      "Epoch 5/70\n",
      "8/8 - 0s - 22ms/step - accuracy: 0.6269 - loss: 0.9197 - val_accuracy: 0.7551 - val_loss: 1.3017\n",
      "Epoch 6/70\n",
      "8/8 - 0s - 16ms/step - accuracy: 0.6580 - loss: 0.8389 - val_accuracy: 0.7551 - val_loss: 1.2434\n",
      "Epoch 7/70\n",
      "8/8 - 0s - 23ms/step - accuracy: 0.6425 - loss: 0.8088 - val_accuracy: 0.7755 - val_loss: 1.2190\n",
      "Epoch 8/70\n",
      "8/8 - 0s - 22ms/step - accuracy: 0.6943 - loss: 0.7459 - val_accuracy: 0.8163 - val_loss: 1.2293\n",
      "Epoch 9/70\n",
      "8/8 - 0s - 16ms/step - accuracy: 0.6684 - loss: 0.7384 - val_accuracy: 0.8163 - val_loss: 1.1506\n",
      "Epoch 10/70\n",
      "8/8 - 0s - 22ms/step - accuracy: 0.7461 - loss: 0.6987 - val_accuracy: 0.8571 - val_loss: 1.1345\n",
      "Epoch 11/70\n",
      "8/8 - 0s - 16ms/step - accuracy: 0.7513 - loss: 0.6609 - val_accuracy: 0.7959 - val_loss: 1.0960\n",
      "Epoch 12/70\n",
      "8/8 - 0s - 16ms/step - accuracy: 0.7927 - loss: 0.6095 - val_accuracy: 0.8367 - val_loss: 1.0945\n",
      "Epoch 13/70\n",
      "8/8 - 0s - 16ms/step - accuracy: 0.7927 - loss: 0.5732 - val_accuracy: 0.7959 - val_loss: 1.0395\n",
      "Epoch 14/70\n",
      "8/8 - 0s - 22ms/step - accuracy: 0.8031 - loss: 0.5677 - val_accuracy: 0.8776 - val_loss: 1.0208\n",
      "Epoch 15/70\n",
      "8/8 - 0s - 16ms/step - accuracy: 0.7979 - loss: 0.5429 - val_accuracy: 0.8163 - val_loss: 0.9671\n",
      "Epoch 16/70\n",
      "8/8 - 0s - 22ms/step - accuracy: 0.7979 - loss: 0.5183 - val_accuracy: 0.8980 - val_loss: 0.9474\n",
      "Epoch 17/70\n",
      "8/8 - 0s - 18ms/step - accuracy: 0.7927 - loss: 0.5324 - val_accuracy: 0.8571 - val_loss: 0.9239\n",
      "Epoch 18/70\n",
      "8/8 - 0s - 16ms/step - accuracy: 0.8031 - loss: 0.4514 - val_accuracy: 0.8571 - val_loss: 0.8460\n",
      "Epoch 19/70\n",
      "8/8 - 0s - 18ms/step - accuracy: 0.8135 - loss: 0.4483 - val_accuracy: 0.8571 - val_loss: 0.8556\n",
      "Epoch 20/70\n",
      "8/8 - 0s - 17ms/step - accuracy: 0.8031 - loss: 0.4835 - val_accuracy: 0.8571 - val_loss: 0.8169\n",
      "Epoch 21/70\n",
      "8/8 - 0s - 24ms/step - accuracy: 0.7979 - loss: 0.4744 - val_accuracy: 0.9184 - val_loss: 0.7741\n",
      "Epoch 22/70\n",
      "8/8 - 0s - 16ms/step - accuracy: 0.7979 - loss: 0.4676 - val_accuracy: 0.9184 - val_loss: 0.7516\n",
      "Epoch 23/70\n",
      "8/8 - 0s - 16ms/step - accuracy: 0.7979 - loss: 0.4343 - val_accuracy: 0.8776 - val_loss: 0.7497\n",
      "Epoch 24/70\n",
      "8/8 - 0s - 16ms/step - accuracy: 0.7979 - loss: 0.4443 - val_accuracy: 0.8980 - val_loss: 0.6909\n",
      "Epoch 25/70\n",
      "8/8 - 0s - 17ms/step - accuracy: 0.8342 - loss: 0.3838 - val_accuracy: 0.9184 - val_loss: 0.6631\n",
      "Epoch 26/70\n",
      "8/8 - 0s - 18ms/step - accuracy: 0.8187 - loss: 0.4207 - val_accuracy: 0.9184 - val_loss: 0.6525\n",
      "Epoch 27/70\n",
      "8/8 - 0s - 17ms/step - accuracy: 0.8342 - loss: 0.3617 - val_accuracy: 0.8980 - val_loss: 0.6654\n",
      "Epoch 28/70\n",
      "8/8 - 0s - 17ms/step - accuracy: 0.7979 - loss: 0.4324 - val_accuracy: 0.8571 - val_loss: 0.6279\n",
      "Epoch 29/70\n",
      "8/8 - 0s - 17ms/step - accuracy: 0.8187 - loss: 0.4078 - val_accuracy: 0.9184 - val_loss: 0.6122\n",
      "Epoch 30/70\n",
      "8/8 - 0s - 24ms/step - accuracy: 0.8238 - loss: 0.4022 - val_accuracy: 0.9592 - val_loss: 0.5828\n",
      "Epoch 31/70\n",
      "8/8 - 0s - 23ms/step - accuracy: 0.8238 - loss: 0.3628 - val_accuracy: 0.8776 - val_loss: 0.5442\n",
      "Epoch 32/70\n",
      "8/8 - 0s - 18ms/step - accuracy: 0.8394 - loss: 0.3536 - val_accuracy: 0.8571 - val_loss: 0.5392\n",
      "Epoch 33/70\n",
      "8/8 - 0s - 17ms/step - accuracy: 0.8238 - loss: 0.3938 - val_accuracy: 0.8980 - val_loss: 0.4843\n",
      "Epoch 34/70\n",
      "8/8 - 0s - 18ms/step - accuracy: 0.7876 - loss: 0.4005 - val_accuracy: 0.9184 - val_loss: 0.4690\n",
      "Epoch 35/70\n",
      "8/8 - 0s - 16ms/step - accuracy: 0.8187 - loss: 0.3748 - val_accuracy: 0.8571 - val_loss: 0.4561\n",
      "Epoch 36/70\n",
      "8/8 - 0s - 18ms/step - accuracy: 0.8342 - loss: 0.3596 - val_accuracy: 0.8776 - val_loss: 0.4612\n",
      "Epoch 37/70\n",
      "8/8 - 0s - 17ms/step - accuracy: 0.8290 - loss: 0.3275 - val_accuracy: 0.8776 - val_loss: 0.4488\n",
      "Epoch 38/70\n",
      "8/8 - 0s - 17ms/step - accuracy: 0.8290 - loss: 0.3545 - val_accuracy: 0.8776 - val_loss: 0.4178\n",
      "Epoch 39/70\n",
      "8/8 - 0s - 18ms/step - accuracy: 0.8394 - loss: 0.3486 - val_accuracy: 0.8776 - val_loss: 0.4090\n",
      "Epoch 40/70\n",
      "8/8 - 0s - 20ms/step - accuracy: 0.8135 - loss: 0.3271 - val_accuracy: 0.8776 - val_loss: 0.4003\n",
      "Epoch 41/70\n",
      "8/8 - 0s - 18ms/step - accuracy: 0.8705 - loss: 0.2972 - val_accuracy: 0.8776 - val_loss: 0.3864\n",
      "Epoch 42/70\n",
      "8/8 - 0s - 18ms/step - accuracy: 0.8290 - loss: 0.3382 - val_accuracy: 0.8776 - val_loss: 0.3741\n",
      "Epoch 43/70\n",
      "8/8 - 0s - 18ms/step - accuracy: 0.8394 - loss: 0.3354 - val_accuracy: 0.8776 - val_loss: 0.3840\n",
      "Epoch 44/70\n",
      "8/8 - 0s - 17ms/step - accuracy: 0.8394 - loss: 0.3403 - val_accuracy: 0.8776 - val_loss: 0.3643\n",
      "Epoch 45/70\n",
      "8/8 - 0s - 19ms/step - accuracy: 0.8342 - loss: 0.2951 - val_accuracy: 0.8980 - val_loss: 0.3545\n",
      "Epoch 46/70\n",
      "8/8 - 0s - 17ms/step - accuracy: 0.8031 - loss: 0.3411 - val_accuracy: 0.9184 - val_loss: 0.3414\n",
      "Epoch 47/70\n",
      "8/8 - 0s - 17ms/step - accuracy: 0.8549 - loss: 0.3117 - val_accuracy: 0.8776 - val_loss: 0.3473\n",
      "Epoch 48/70\n",
      "8/8 - 0s - 17ms/step - accuracy: 0.8238 - loss: 0.3218 - val_accuracy: 0.8776 - val_loss: 0.3408\n",
      "Epoch 49/70\n",
      "8/8 - 0s - 18ms/step - accuracy: 0.8497 - loss: 0.3353 - val_accuracy: 0.9388 - val_loss: 0.3411\n",
      "Epoch 50/70\n",
      "8/8 - 0s - 18ms/step - accuracy: 0.8187 - loss: 0.3200 - val_accuracy: 0.9592 - val_loss: 0.3755\n",
      "Epoch 51/70\n",
      "8/8 - 0s - 18ms/step - accuracy: 0.8083 - loss: 0.3153 - val_accuracy: 0.8980 - val_loss: 0.4129\n",
      "Epoch 52/70\n",
      "8/8 - 0s - 19ms/step - accuracy: 0.8031 - loss: 0.3281 - val_accuracy: 0.9592 - val_loss: 0.3664\n",
      "Epoch 53/70\n",
      "8/8 - 0s - 19ms/step - accuracy: 0.8394 - loss: 0.3186 - val_accuracy: 0.9592 - val_loss: 0.3559\n",
      "Epoch 54/70\n",
      "8/8 - 0s - 18ms/step - accuracy: 0.8135 - loss: 0.2916 - val_accuracy: 0.9592 - val_loss: 0.3549\n",
      "Epoch 55/70\n",
      "8/8 - 0s - 19ms/step - accuracy: 0.8446 - loss: 0.3069 - val_accuracy: 0.9388 - val_loss: 0.3438\n",
      "Epoch 56/70\n",
      "8/8 - 0s - 17ms/step - accuracy: 0.8808 - loss: 0.2862 - val_accuracy: 0.9592 - val_loss: 0.3489\n",
      "Epoch 57/70\n",
      "8/8 - 0s - 18ms/step - accuracy: 0.8601 - loss: 0.2987 - val_accuracy: 0.9592 - val_loss: 0.3368\n",
      "Epoch 58/70\n",
      "8/8 - 0s - 19ms/step - accuracy: 0.8394 - loss: 0.3227 - val_accuracy: 0.9388 - val_loss: 0.3527\n",
      "Epoch 59/70\n",
      "8/8 - 0s - 18ms/step - accuracy: 0.8446 - loss: 0.2790 - val_accuracy: 0.9184 - val_loss: 0.3982\n",
      "Epoch 60/70\n",
      "8/8 - 0s - 18ms/step - accuracy: 0.8653 - loss: 0.2994 - val_accuracy: 0.9388 - val_loss: 0.3527\n",
      "Epoch 61/70\n",
      "8/8 - 0s - 18ms/step - accuracy: 0.8549 - loss: 0.3066 - val_accuracy: 0.9592 - val_loss: 0.3076\n",
      "Epoch 62/70\n",
      "8/8 - 0s - 17ms/step - accuracy: 0.8601 - loss: 0.2754 - val_accuracy: 0.9592 - val_loss: 0.2869\n",
      "Epoch 63/70\n",
      "8/8 - 0s - 19ms/step - accuracy: 0.8446 - loss: 0.3149 - val_accuracy: 0.9388 - val_loss: 0.3137\n",
      "Epoch 64/70\n",
      "8/8 - 0s - 18ms/step - accuracy: 0.8860 - loss: 0.2846 - val_accuracy: 0.9592 - val_loss: 0.3303\n",
      "Epoch 65/70\n",
      "8/8 - 0s - 18ms/step - accuracy: 0.9223 - loss: 0.2712 - val_accuracy: 0.9592 - val_loss: 0.3382\n",
      "Epoch 66/70\n",
      "8/8 - 0s - 18ms/step - accuracy: 0.9223 - loss: 0.2770 - val_accuracy: 0.9592 - val_loss: 0.3325\n",
      "Epoch 67/70\n",
      "8/8 - 0s - 18ms/step - accuracy: 0.9275 - loss: 0.2624 - val_accuracy: 0.9592 - val_loss: 0.3116\n",
      "Epoch 68/70\n",
      "8/8 - 0s - 18ms/step - accuracy: 0.9534 - loss: 0.2568 - val_accuracy: 0.9592 - val_loss: 0.3064\n",
      "Epoch 69/70\n",
      "8/8 - 0s - 17ms/step - accuracy: 0.9275 - loss: 0.2703 - val_accuracy: 0.9592 - val_loss: 0.3094\n",
      "Epoch 70/70\n",
      "8/8 - 0s - 20ms/step - accuracy: 0.9326 - loss: 0.2367 - val_accuracy: 0.9592 - val_loss: 0.3317\n"
     ]
    }
   ],
   "source": [
    "optimizer = Adam(learning_rate=0.00025)\n",
    "model.compile(loss='categorical_crossentropy', optimizer=optimizer, metrics=['accuracy'])\n",
    "2\n",
    "# Train the model\n",
    "history = model.fit(X_train, y_train, epochs=70, batch_size=25, validation_data=(X_val, y_val), verbose=2, callbacks=[callbacks_checkpoint,early_stop])\n"
   ]
  },
  {
   "cell_type": "markdown",
   "metadata": {},
   "source": [
    "Plot graph\n"
   ]
  },
  {
   "cell_type": "code",
   "execution_count": 11,
   "metadata": {},
   "outputs": [],
   "source": [
    "import pylab as plt"
   ]
  },
  {
   "cell_type": "code",
   "execution_count": 12,
   "metadata": {},
   "outputs": [
    {
     "name": "stdout",
     "output_type": "stream",
     "text": [
      "\u001b[1m2/2\u001b[0m \u001b[32m━━━━━━━━━━━━━━━━━━━━\u001b[0m\u001b[37m\u001b[0m \u001b[1m0s\u001b[0m 7ms/step - accuracy: 0.9624 - loss: 0.2641 \n"
     ]
    },
    {
     "data": {
      "text/plain": [
       "[0.2868933081626892, 0.9591836929321289]"
      ]
     },
     "execution_count": 12,
     "metadata": {},
     "output_type": "execute_result"
    }
   ],
   "source": [
    "model.evaluate(X_val,y_val)"
   ]
  },
  {
   "cell_type": "code",
   "execution_count": 13,
   "metadata": {},
   "outputs": [
    {
     "data": {
      "image/png": "[encoded data removed]",
      "text/plain": [
       "<Figure size 640x480 with 1 Axes>"
      ]
     },
     "metadata": {},
     "output_type": "display_data"
    },
    {
     "data": {
      "image/png": "[encoded data removed]",
      "text/plain": [
       "<Figure size 640x480 with 1 Axes>"
      ]
     },
     "metadata": {},
     "output_type": "display_data"
    }
   ],
   "source": [
    "def plot_history(history):\n",
    "  plt.plot(history.history['accuracy'])\n",
    "  plt.plot(history.history['val_accuracy'])\n",
    "  plt.ylabel('loss')\n",
    "  plt.xlabel('epoch')\n",
    "  plt.legend(['train', 'val'], loc='upper left')\n",
    "  plt.show()\n",
    "\n",
    "plot_history(history)\n",
    "\n",
    "def plot_history(history):\n",
    "  plt.plot(history.history['loss'])\n",
    "  plt.plot(history.history['val_loss'])\n",
    "  plt.ylabel('loss')\n",
    "  plt.xlabel('epoch')\n",
    "  plt.legend(['train', 'val'], loc='upper left')\n",
    "  plt.show()\n",
    "\n",
    "plot_history(history)"
   ]
  },
  {
   "cell_type": "code",
   "execution_count": 14,
   "metadata": {},
   "outputs": [],
   "source": [
    "from tensorflow.keras.models import load_model\n",
    "model_eval = load_model('classify_intent.keras')"
   ]
  },
  {
   "cell_type": "code",
   "execution_count": 17,
   "metadata": {},
   "outputs": [
    {
     "name": "stdout",
     "output_type": "stream",
     "text": [
      "\u001b[1m1/1\u001b[0m \u001b[32m━━━━━━━━━━━━━━━━━━━━\u001b[0m\u001b[37m\u001b[0m \u001b[1m0s\u001b[0m 108ms/step\n"
     ]
    }
   ],
   "source": [
    "from tensorflow.keras.preprocessing.text import Tokenizer\n",
    "from tensorflow.keras.preprocessing.sequence import pad_sequences\n",
    "\n",
    "# Sample new texts\n",
    "new_texts = [\"what is the meaning of life\",\"open the wikipedia page\",\"search for capstone\",\"who is george washington\", \"go to the next page\", \"scroll down\"]\n",
    "\n",
    "# Load the tokenizer\n",
    "with open('tokenizer.pkl', 'rb') as f:\n",
    "    tokenizer = pickle.load(f)\n",
    "\n",
    "# Tokenize and pad the new texts\n",
    "new_sequences = tokenizer.texts_to_sequences(new_texts)\n",
    "max_sequence_length = 100  # Same max_sequence_length as used during training\n",
    "new_data = pad_sequences(new_sequences, maxlen=max_sequence_length)\n",
    "\n",
    "# Make predictions\n",
    "predictions = model.predict(new_data)\n",
    "\n",
    "# Convert predictions to class labels (indices)\n",
    "predicted_classes = predictions.argmax(axis=-1)\n",
    "\n",
    "\n"
   ]
  },
  {
   "cell_type": "code",
   "execution_count": 18,
   "metadata": {},
   "outputs": [
    {
     "name": "stdout",
     "output_type": "stream",
     "text": [
      "['SearchQuery' 'OpenSearchResult' 'SearchQuery' 'SearchQuery'\n",
      " 'BrowserCommand' 'BrowserCommand']\n"
     ]
    }
   ],
   "source": [
    "from sklearn.preprocessing import LabelEncoder\n",
    "import numpy as np\n",
    "\n",
    "# Load the label encoder\n",
    "label_encoder = LabelEncoder()\n",
    "label_encoder.classes_ = np.load('classes.npy', allow_pickle=True)\n",
    "\n",
    "# Decode predicted classes\n",
    "predicted_labels = label_encoder.inverse_transform(predicted_classes)\n",
    "print(predicted_labels)"
   ]
  }
 ],
 "metadata": {
  "kernelspec": {
   "display_name": "intent",
   "language": "python",
   "name": "python3"
  },
  "language_info": {
   "codemirror_mode": {
    "name": "ipython",
    "version": 3
   },
   "file_extension": ".py",
   "mimetype": "text/x-python",
   "name": "python",
   "nbconvert_exporter": "python",
   "pygments_lexer": "ipython3",
   "version": "3.12.4"
  }
 },
 "nbformat": 4,
 "nbformat_minor": 2
}
