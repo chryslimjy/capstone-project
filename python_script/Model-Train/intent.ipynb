{
 "cells": [
  {
   "cell_type": "code",
   "execution_count": 1,
   "metadata": {},
   "outputs": [],
   "source": [
    "import pandas as pd\n",
    "from sklearn.model_selection import train_test_split\n",
    "from tensorflow.keras.preprocessing.text import Tokenizer\n",
    "from tensorflow.keras.preprocessing.sequence import pad_sequences\n",
    "from tensorflow.keras.utils import to_categorical\n",
    "from tensorflow.keras.models import Sequential\n",
    "from tensorflow.keras.layers import Embedding, Conv1D, MaxPooling1D, GlobalMaxPooling1D, Dense, Dropout\n",
    "from sklearn.preprocessing import LabelEncoder\n"
   ]
  },
  {
   "cell_type": "code",
   "execution_count": 2,
   "metadata": {},
   "outputs": [
    {
     "name": "stdout",
     "output_type": "stream",
     "text": [
      "                              command       intent\n",
      "0                      can I eat snow  SearchQuery\n",
      "1         can I drink coffee at night  SearchQuery\n",
      "2            how do I fix my computer  SearchQuery\n",
      "3  where to go during school holidays  SearchQuery\n",
      "4       what are popular places to go  SearchQuery\n"
     ]
    }
   ],
   "source": [
    "train = pd.read_csv(\"queries.csv\")\n",
    "\n",
    "commands = train['command'].values\n",
    "intents = train['intent'].values\n",
    "\n",
    "print(train.head())\n",
    "train['intent'].value_counts(normalize = True)\n",
    "\n",
    "assert train['intent'].isna().sum() == 0, \"There are NaN values in the 'intent' column\"\n",
    "assert train['command'].isna().sum() == 0, \"There are NaN values in the 'command' column\""
   ]
  },
  {
   "cell_type": "code",
   "execution_count": 3,
   "metadata": {},
   "outputs": [],
   "source": [
    "# Tokenize the text\n",
    "tokenizer = Tokenizer()\n",
    "tokenizer.fit_on_texts(commands)\n",
    "sequences = tokenizer.texts_to_sequences(commands)\n",
    "word_index = tokenizer.word_index\n",
    "\n",
    "# Pad sequences\n",
    "max_sequence_length = 100\n",
    "data = pad_sequences(sequences, maxlen=max_sequence_length)\n",
    "\n",
    "# Optionally save the tokenizer for future use\n",
    "import pickle\n",
    "with open('tokenizer.pkl', 'wb') as f:\n",
    "    pickle.dump(tokenizer, f)"
   ]
  },
  {
   "cell_type": "code",
   "execution_count": 4,
   "metadata": {},
   "outputs": [],
   "source": [
    "import numpy as np\n",
    "label_encoder = LabelEncoder()\n",
    "labels = label_encoder.fit_transform(intents)\n",
    "labels = to_categorical(labels)\n",
    "\n",
    "np.save('classes.npy', label_encoder.classes_)"
   ]
  },
  {
   "cell_type": "code",
   "execution_count": 5,
   "metadata": {},
   "outputs": [],
   "source": [
    "# Split data into training and validation sets\n",
    "X_train, X_val, y_train, y_val = train_test_split(data, labels, test_size=0.2, random_state=42)"
   ]
  },
  {
   "cell_type": "code",
   "execution_count": 6,
   "metadata": {},
   "outputs": [],
   "source": [
    "import numpy as np\n",
    "\n",
    "# Load GloVe embeddings\n",
    "embedding_index = {}\n",
    "with open('glove.6B.100d.txt', encoding='utf-8') as f:\n",
    "    for line in f:\n",
    "        values = line.split()\n",
    "        word = values[0]\n",
    "        coefs = np.asarray(values[1:], dtype='float32')\n",
    "        embedding_index[word] = coefs\n",
    "\n",
    "# Create embedding matrix\n",
    "embedding_dim = 100\n",
    "embedding_matrix = np.zeros((len(word_index) + 1, embedding_dim))\n",
    "for word, i in word_index.items():\n",
    "    embedding_vector = embedding_index.get(word)\n",
    "    if embedding_vector is not None:\n",
    "        embedding_matrix[i] = embedding_vector\n"
   ]
  },
  {
   "cell_type": "code",
   "execution_count": 7,
   "metadata": {},
   "outputs": [
    {
     "name": "stdout",
     "output_type": "stream",
     "text": [
      "4\n"
     ]
    }
   ],
   "source": [
    "print(len(label_encoder.classes_))"
   ]
  },
  {
   "cell_type": "code",
   "execution_count": 8,
   "metadata": {},
   "outputs": [
    {
     "name": "stderr",
     "output_type": "stream",
     "text": [
      "c:\\Users\\Chrystal Lim\\anaconda3\\envs\\intent\\Lib\\site-packages\\keras\\src\\layers\\core\\embedding.py:90: UserWarning: Argument `input_length` is deprecated. Just remove it.\n",
      "  warnings.warn(\n",
      "c:\\Users\\Chrystal Lim\\anaconda3\\envs\\intent\\Lib\\site-packages\\keras\\src\\layers\\activations\\leaky_relu.py:41: UserWarning: Argument `alpha` is deprecated. Use `negative_slope` instead.\n",
      "  warnings.warn(\n"
     ]
    }
   ],
   "source": [
    "from keras.models import Sequential\n",
    "from tensorflow.keras.regularizers import l2\n",
    "from keras.layers import Embedding, Conv1D, MaxPooling1D, GlobalMaxPooling1D, Dense, Dropout\n",
    "from tensorflow.keras.callbacks import ModelCheckpoint, EarlyStopping, ReduceLROnPlateau\n",
    "from tensorflow.keras.optimizers import RMSprop, Adam, SGD\n",
    "from tensorflow.keras.models import Model\n",
    "from tensorflow.keras.layers import Embedding, Conv1D, MaxPooling1D, Flatten, Dense, Dropout, BatchNormalization, LeakyReLU\n",
    "\n",
    "\n",
    "model = Sequential()\n",
    "model.add(Embedding(len(word_index) + 1, embedding_dim, weights=[embedding_matrix], input_length=max_sequence_length, trainable=False))\n",
    "model.add(Conv1D(filters=64, kernel_size=8))\n",
    "model.add(LeakyReLU(alpha=0.025))\n",
    "model.add(Conv1D(128, 8, padding='same'))\n",
    "model.add(LeakyReLU(alpha=0.02))\n",
    "model.add(Conv1D(128, 8, padding='same'))\n",
    "model.add(LeakyReLU(alpha=0.015))\n",
    "model.add(Conv1D(64, 8, padding='same'))\n",
    "model.add(LeakyReLU(alpha=0.01))\n",
    "model.add(Dropout(0.1))\n",
    "model.add(MaxPooling1D(pool_size=2))\n",
    "model.add(Flatten())\n",
    "\n",
    "model.add(Dense(128))\n",
    "model.add(LeakyReLU(alpha=0.015))\n",
    "model.add(Dense(128))\n",
    "model.add(LeakyReLU(alpha=0.008))\n",
    "model.add(Dense(64))\n",
    "model.add(LeakyReLU(alpha=0.015))\n",
    "model.add(Dense(32, activation='relu'))\n",
    "model.add(BatchNormalization())\n",
    "model.add(Dense(10, activation='relu'))\n",
    "model.add(Dropout(0.35))\n",
    "model.add(Dense(len(label_encoder.classes_), activation='softmax'))\n"
   ]
  },
  {
   "cell_type": "code",
   "execution_count": 9,
   "metadata": {},
   "outputs": [],
   "source": [
    "model_checkpoint_filepath = \"classify_intent.keras\"\n",
    "callbacks_checkpoint = ModelCheckpoint(\n",
    "    filepath=model_checkpoint_filepath,\n",
    "    save_weights_only=False,\n",
    "    monitor=\"val_accuracy\",#val_loss\n",
    "    mode=\"max\",#max\n",
    "    save_best_only=True\n",
    ")\n",
    "\n",
    "early_stop = EarlyStopping(\n",
    "    monitor='val_loss',  # Metric to monitor\n",
    "    patience=12,         # Number of epochs to wait for improvement\n",
    "    restore_best_weights=True  # Restore the model weights from the epoch with the best value of the monitored metric\n",
    ")"
   ]
  },
  {
   "cell_type": "code",
   "execution_count": 10,
   "metadata": {},
   "outputs": [
    {
     "name": "stdout",
     "output_type": "stream",
     "text": [
      "Epoch 1/70\n",
      "8/8 - 3s - 407ms/step - accuracy: 0.2902 - loss: 1.3635 - val_accuracy: 0.2653 - val_loss: 1.3843\n",
      "Epoch 2/70\n",
      "8/8 - 0s - 25ms/step - accuracy: 0.4404 - loss: 1.2219 - val_accuracy: 0.5510 - val_loss: 1.3761\n",
      "Epoch 3/70\n",
      "8/8 - 0s - 25ms/step - accuracy: 0.4870 - loss: 1.1317 - val_accuracy: 0.5918 - val_loss: 1.3675\n",
      "Epoch 4/70\n",
      "8/8 - 0s - 25ms/step - accuracy: 0.5959 - loss: 1.0255 - val_accuracy: 0.7143 - val_loss: 1.3548\n",
      "Epoch 5/70\n",
      "8/8 - 0s - 20ms/step - accuracy: 0.6166 - loss: 0.8986 - val_accuracy: 0.6327 - val_loss: 1.3371\n",
      "Epoch 6/70\n",
      "8/8 - 0s - 19ms/step - accuracy: 0.6632 - loss: 0.8569 - val_accuracy: 0.6939 - val_loss: 1.3216\n",
      "Epoch 7/70\n",
      "8/8 - 0s - 26ms/step - accuracy: 0.6788 - loss: 0.8116 - val_accuracy: 0.7347 - val_loss: 1.2903\n",
      "Epoch 8/70\n",
      "8/8 - 0s - 23ms/step - accuracy: 0.6995 - loss: 0.7628 - val_accuracy: 0.7755 - val_loss: 1.2767\n",
      "Epoch 9/70\n",
      "8/8 - 0s - 20ms/step - accuracy: 0.7513 - loss: 0.6898 - val_accuracy: 0.7755 - val_loss: 1.2556\n",
      "Epoch 10/70\n",
      "8/8 - 0s - 18ms/step - accuracy: 0.7668 - loss: 0.6685 - val_accuracy: 0.7551 - val_loss: 1.2308\n",
      "Epoch 11/70\n",
      "8/8 - 0s - 20ms/step - accuracy: 0.7617 - loss: 0.6257 - val_accuracy: 0.7347 - val_loss: 1.2033\n",
      "Epoch 12/70\n",
      "8/8 - 0s - 26ms/step - accuracy: 0.8031 - loss: 0.5652 - val_accuracy: 0.8776 - val_loss: 1.1959\n",
      "Epoch 13/70\n",
      "8/8 - 0s - 20ms/step - accuracy: 0.8238 - loss: 0.5374 - val_accuracy: 0.7959 - val_loss: 1.1499\n",
      "Epoch 14/70\n",
      "8/8 - 0s - 18ms/step - accuracy: 0.8756 - loss: 0.4775 - val_accuracy: 0.7755 - val_loss: 1.1319\n",
      "Epoch 15/70\n",
      "8/8 - 0s - 26ms/step - accuracy: 0.8238 - loss: 0.5418 - val_accuracy: 0.8980 - val_loss: 1.1060\n",
      "Epoch 16/70\n",
      "8/8 - 0s - 22ms/step - accuracy: 0.8808 - loss: 0.4708 - val_accuracy: 0.8367 - val_loss: 1.0891\n",
      "Epoch 17/70\n",
      "8/8 - 0s - 21ms/step - accuracy: 0.8549 - loss: 0.4559 - val_accuracy: 0.8980 - val_loss: 1.0514\n",
      "Epoch 18/70\n",
      "8/8 - 0s - 18ms/step - accuracy: 0.8756 - loss: 0.4419 - val_accuracy: 0.8571 - val_loss: 0.9834\n",
      "Epoch 19/70\n",
      "8/8 - 0s - 28ms/step - accuracy: 0.8964 - loss: 0.3898 - val_accuracy: 0.9184 - val_loss: 1.0007\n",
      "Epoch 20/70\n",
      "8/8 - 0s - 19ms/step - accuracy: 0.9067 - loss: 0.4107 - val_accuracy: 0.8776 - val_loss: 0.9440\n",
      "Epoch 21/70\n",
      "8/8 - 0s - 21ms/step - accuracy: 0.8912 - loss: 0.4283 - val_accuracy: 0.8980 - val_loss: 0.9526\n",
      "Epoch 22/70\n",
      "8/8 - 0s - 30ms/step - accuracy: 0.9067 - loss: 0.3995 - val_accuracy: 0.9388 - val_loss: 0.9186\n",
      "Epoch 23/70\n",
      "8/8 - 0s - 24ms/step - accuracy: 0.9275 - loss: 0.3893 - val_accuracy: 0.9184 - val_loss: 0.8734\n",
      "Epoch 24/70\n",
      "8/8 - 0s - 22ms/step - accuracy: 0.9534 - loss: 0.3237 - val_accuracy: 0.9388 - val_loss: 0.8333\n",
      "Epoch 25/70\n",
      "8/8 - 0s - 20ms/step - accuracy: 0.9067 - loss: 0.3267 - val_accuracy: 0.9388 - val_loss: 0.7913\n",
      "Epoch 26/70\n",
      "8/8 - 0s - 17ms/step - accuracy: 0.9482 - loss: 0.3347 - val_accuracy: 0.9184 - val_loss: 0.7333\n",
      "Epoch 27/70\n",
      "8/8 - 0s - 18ms/step - accuracy: 0.9482 - loss: 0.3315 - val_accuracy: 0.9388 - val_loss: 0.7459\n",
      "Epoch 28/70\n",
      "8/8 - 0s - 17ms/step - accuracy: 0.8964 - loss: 0.3596 - val_accuracy: 0.9388 - val_loss: 0.7235\n",
      "Epoch 29/70\n",
      "8/8 - 0s - 18ms/step - accuracy: 0.9119 - loss: 0.3173 - val_accuracy: 0.9388 - val_loss: 0.7040\n",
      "Epoch 30/70\n",
      "8/8 - 0s - 19ms/step - accuracy: 0.9171 - loss: 0.3109 - val_accuracy: 0.9388 - val_loss: 0.6682\n",
      "Epoch 31/70\n",
      "8/8 - 0s - 20ms/step - accuracy: 0.8912 - loss: 0.2994 - val_accuracy: 0.9388 - val_loss: 0.6211\n",
      "Epoch 32/70\n",
      "8/8 - 0s - 24ms/step - accuracy: 0.8912 - loss: 0.3049 - val_accuracy: 0.9388 - val_loss: 0.6004\n",
      "Epoch 33/70\n",
      "8/8 - 0s - 19ms/step - accuracy: 0.9119 - loss: 0.2759 - val_accuracy: 0.9388 - val_loss: 0.5783\n",
      "Epoch 34/70\n",
      "8/8 - 0s - 21ms/step - accuracy: 0.9171 - loss: 0.2978 - val_accuracy: 0.9388 - val_loss: 0.5638\n",
      "Epoch 35/70\n",
      "8/8 - 0s - 29ms/step - accuracy: 0.9119 - loss: 0.2899 - val_accuracy: 0.9388 - val_loss: 0.5126\n",
      "Epoch 36/70\n",
      "8/8 - 0s - 24ms/step - accuracy: 0.9378 - loss: 0.2783 - val_accuracy: 0.9388 - val_loss: 0.4860\n",
      "Epoch 37/70\n",
      "8/8 - 0s - 19ms/step - accuracy: 0.9378 - loss: 0.2839 - val_accuracy: 0.9388 - val_loss: 0.4908\n",
      "Epoch 38/70\n",
      "8/8 - 0s - 19ms/step - accuracy: 0.9171 - loss: 0.2874 - val_accuracy: 0.9388 - val_loss: 0.4545\n",
      "Epoch 39/70\n",
      "8/8 - 0s - 20ms/step - accuracy: 0.8912 - loss: 0.3024 - val_accuracy: 0.9388 - val_loss: 0.4336\n",
      "Epoch 40/70\n",
      "8/8 - 0s - 18ms/step - accuracy: 0.9378 - loss: 0.2781 - val_accuracy: 0.9388 - val_loss: 0.4299\n",
      "Epoch 41/70\n",
      "8/8 - 0s - 23ms/step - accuracy: 0.9223 - loss: 0.2563 - val_accuracy: 0.9184 - val_loss: 0.4171\n",
      "Epoch 42/70\n",
      "8/8 - 0s - 23ms/step - accuracy: 0.8912 - loss: 0.2998 - val_accuracy: 0.9388 - val_loss: 0.4118\n",
      "Epoch 43/70\n",
      "8/8 - 0s - 19ms/step - accuracy: 0.9534 - loss: 0.2175 - val_accuracy: 0.9388 - val_loss: 0.3898\n",
      "Epoch 44/70\n",
      "8/8 - 0s - 23ms/step - accuracy: 0.9171 - loss: 0.2408 - val_accuracy: 0.9388 - val_loss: 0.3633\n",
      "Epoch 45/70\n",
      "8/8 - 0s - 27ms/step - accuracy: 0.9119 - loss: 0.2711 - val_accuracy: 0.9592 - val_loss: 0.3715\n",
      "Epoch 46/70\n",
      "8/8 - 0s - 22ms/step - accuracy: 0.9378 - loss: 0.2231 - val_accuracy: 0.9388 - val_loss: 0.3410\n",
      "Epoch 47/70\n",
      "8/8 - 0s - 18ms/step - accuracy: 0.9534 - loss: 0.2171 - val_accuracy: 0.9388 - val_loss: 0.3478\n",
      "Epoch 48/70\n",
      "8/8 - 0s - 21ms/step - accuracy: 0.9275 - loss: 0.2663 - val_accuracy: 0.9388 - val_loss: 0.3377\n",
      "Epoch 49/70\n",
      "8/8 - 0s - 22ms/step - accuracy: 0.9430 - loss: 0.2133 - val_accuracy: 0.9388 - val_loss: 0.3350\n",
      "Epoch 50/70\n",
      "8/8 - 0s - 20ms/step - accuracy: 0.9534 - loss: 0.2312 - val_accuracy: 0.9388 - val_loss: 0.3227\n",
      "Epoch 51/70\n",
      "8/8 - 0s - 21ms/step - accuracy: 0.9482 - loss: 0.2342 - val_accuracy: 0.9388 - val_loss: 0.3243\n",
      "Epoch 52/70\n",
      "8/8 - 0s - 20ms/step - accuracy: 0.9378 - loss: 0.2153 - val_accuracy: 0.9388 - val_loss: 0.3288\n",
      "Epoch 53/70\n",
      "8/8 - 0s - 19ms/step - accuracy: 0.9275 - loss: 0.2599 - val_accuracy: 0.9388 - val_loss: 0.3088\n",
      "Epoch 54/70\n",
      "8/8 - 0s - 20ms/step - accuracy: 0.9534 - loss: 0.2014 - val_accuracy: 0.9388 - val_loss: 0.3105\n",
      "Epoch 55/70\n",
      "8/8 - 0s - 21ms/step - accuracy: 0.9326 - loss: 0.2258 - val_accuracy: 0.9388 - val_loss: 0.3246\n",
      "Epoch 56/70\n",
      "8/8 - 0s - 20ms/step - accuracy: 0.9223 - loss: 0.2096 - val_accuracy: 0.9184 - val_loss: 0.3289\n",
      "Epoch 57/70\n",
      "8/8 - 0s - 21ms/step - accuracy: 0.9119 - loss: 0.2387 - val_accuracy: 0.9388 - val_loss: 0.2994\n",
      "Epoch 58/70\n",
      "8/8 - 0s - 18ms/step - accuracy: 0.9223 - loss: 0.2571 - val_accuracy: 0.9388 - val_loss: 0.2697\n",
      "Epoch 59/70\n",
      "8/8 - 0s - 22ms/step - accuracy: 0.9223 - loss: 0.2175 - val_accuracy: 0.9388 - val_loss: 0.2781\n",
      "Epoch 60/70\n",
      "8/8 - 0s - 22ms/step - accuracy: 0.9482 - loss: 0.1869 - val_accuracy: 0.9592 - val_loss: 0.3007\n",
      "Epoch 61/70\n",
      "8/8 - 0s - 21ms/step - accuracy: 0.9482 - loss: 0.2143 - val_accuracy: 0.9184 - val_loss: 0.2973\n",
      "Epoch 62/70\n",
      "8/8 - 0s - 24ms/step - accuracy: 0.9223 - loss: 0.2212 - val_accuracy: 0.9388 - val_loss: 0.2817\n",
      "Epoch 63/70\n",
      "8/8 - 0s - 19ms/step - accuracy: 0.9326 - loss: 0.2155 - val_accuracy: 0.9388 - val_loss: 0.2891\n",
      "Epoch 64/70\n",
      "8/8 - 0s - 19ms/step - accuracy: 0.9223 - loss: 0.2266 - val_accuracy: 0.9388 - val_loss: 0.2753\n",
      "Epoch 65/70\n",
      "8/8 - 0s - 20ms/step - accuracy: 0.8912 - loss: 0.2519 - val_accuracy: 0.9388 - val_loss: 0.2721\n",
      "Epoch 66/70\n",
      "8/8 - 0s - 20ms/step - accuracy: 0.9637 - loss: 0.1737 - val_accuracy: 0.9388 - val_loss: 0.2821\n",
      "Epoch 67/70\n",
      "8/8 - 0s - 24ms/step - accuracy: 0.9534 - loss: 0.1690 - val_accuracy: 0.9388 - val_loss: 0.2772\n",
      "Epoch 68/70\n",
      "8/8 - 0s - 19ms/step - accuracy: 0.9223 - loss: 0.2030 - val_accuracy: 0.9388 - val_loss: 0.2797\n",
      "Epoch 69/70\n",
      "8/8 - 0s - 23ms/step - accuracy: 0.9378 - loss: 0.2122 - val_accuracy: 0.9388 - val_loss: 0.2904\n",
      "Epoch 70/70\n",
      "8/8 - 0s - 23ms/step - accuracy: 0.9430 - loss: 0.1869 - val_accuracy: 0.9184 - val_loss: 0.3228\n"
     ]
    }
   ],
   "source": [
    "optimizer = Adam(learning_rate=0.0002)\n",
    "model.compile(loss='categorical_crossentropy', optimizer=optimizer, metrics=['accuracy'])\n",
    "2\n",
    "# Train the model\n",
    "history = model.fit(X_train, y_train, epochs=70, batch_size=25, validation_data=(X_val, y_val), verbose=2, callbacks=[callbacks_checkpoint,early_stop])\n"
   ]
  },
  {
   "cell_type": "markdown",
   "metadata": {},
   "source": [
    "Plot graph\n"
   ]
  },
  {
   "cell_type": "code",
   "execution_count": 11,
   "metadata": {},
   "outputs": [],
   "source": [
    "import pylab as plt"
   ]
  },
  {
   "cell_type": "code",
   "execution_count": 12,
   "metadata": {},
   "outputs": [
    {
     "name": "stdout",
     "output_type": "stream",
     "text": [
      "\u001b[1m2/2\u001b[0m \u001b[32m━━━━━━━━━━━━━━━━━━━━\u001b[0m\u001b[37m\u001b[0m \u001b[1m0s\u001b[0m 19ms/step - accuracy: 0.9488 - loss: 0.2472\n"
     ]
    },
    {
     "data": {
      "text/plain": [
       "[0.26968589425086975, 0.9387755393981934]"
      ]
     },
     "execution_count": 12,
     "metadata": {},
     "output_type": "execute_result"
    }
   ],
   "source": [
    "model.evaluate(X_val,y_val)"
   ]
  },
  {
   "cell_type": "code",
   "execution_count": 13,
   "metadata": {},
   "outputs": [
    {
     "data": {
      "image/png": "[encoded data removed]",
      "text/plain": [
       "<Figure size 640x480 with 1 Axes>"
      ]
     },
     "metadata": {},
     "output_type": "display_data"
    },
    {
     "data": {
      "image/png": "[encoded data removed]",
      "text/plain": [
       "<Figure size 640x480 with 1 Axes>"
      ]
     },
     "metadata": {},
     "output_type": "display_data"
    }
   ],
   "source": [
    "def plot_history(history):\n",
    "  plt.plot(history.history['accuracy'])\n",
    "  plt.plot(history.history['val_accuracy'])\n",
    "  plt.ylabel('loss')\n",
    "  plt.xlabel('epoch')\n",
    "  plt.legend(['train', 'val'], loc='upper left')\n",
    "  plt.show()\n",
    "\n",
    "plot_history(history)\n",
    "\n",
    "def plot_history(history):\n",
    "  plt.plot(history.history['loss'])\n",
    "  plt.plot(history.history['val_loss'])\n",
    "  plt.ylabel('loss')\n",
    "  plt.xlabel('epoch')\n",
    "  plt.legend(['train', 'val'], loc='upper left')\n",
    "  plt.show()\n",
    "\n",
    "plot_history(history)"
   ]
  },
  {
   "cell_type": "markdown",
   "metadata": {},
   "source": [
    "Precision + Recall\n"
   ]
  },
  {
   "cell_type": "code",
   "execution_count": 19,
   "metadata": {},
   "outputs": [
    {
     "name": "stdout",
     "output_type": "stream",
     "text": [
      "\u001b[1m2/2\u001b[0m \u001b[32m━━━━━━━━━━━━━━━━━━━━\u001b[0m\u001b[37m\u001b[0m \u001b[1m0s\u001b[0m 6ms/step \n",
      "Precision: 0.9285714285714286\n",
      "Recall: 0.8916666666666666\n",
      "Precision per class: [1.         0.75       0.96428571 1.        ]\n",
      "Recall per class: [0.66666667 1.         1.         0.9       ]\n"
     ]
    }
   ],
   "source": [
    "y_pred = model.predict(X_val)\n",
    "y_pred_labels = np.argmax(y_pred, axis=1)\n",
    "y_val_labels = np.argmax(y_val, axis=1)\n",
    "\n",
    "from sklearn.metrics import precision_score, recall_score\n",
    "\n",
    "precision = precision_score(y_val_labels, y_pred_labels, average='macro')\n",
    "recall = recall_score(y_val_labels, y_pred_labels, average='macro')\n",
    "\n",
    "print(f\"Precision: {precision}\")\n",
    "print(f\"Recall: {recall}\")\n",
    "\n",
    "precision_per_class = precision_score(y_val_labels, y_pred_labels, average=None)\n",
    "recall_per_class = recall_score(y_val_labels, y_pred_labels, average=None)\n",
    "\n",
    "print(f\"Precision per class: {precision_per_class}\")\n",
    "print(f\"Recall per class: {recall_per_class}\")\n",
    "\n"
   ]
  },
  {
   "cell_type": "markdown",
   "metadata": {},
   "source": [
    "END"
   ]
  },
  {
   "cell_type": "code",
   "execution_count": 14,
   "metadata": {},
   "outputs": [],
   "source": [
    "from tensorflow.keras.models import load_model\n",
    "model_eval = load_model('classify_intent.keras')"
   ]
  },
  {
   "cell_type": "code",
   "execution_count": 15,
   "metadata": {},
   "outputs": [
    {
     "name": "stdout",
     "output_type": "stream",
     "text": [
      "\u001b[1m1/1\u001b[0m \u001b[32m━━━━━━━━━━━━━━━━━━━━\u001b[0m\u001b[37m\u001b[0m \u001b[1m0s\u001b[0m 114ms/step\n"
     ]
    }
   ],
   "source": [
    "from tensorflow.keras.preprocessing.text import Tokenizer\n",
    "from tensorflow.keras.preprocessing.sequence import pad_sequences\n",
    "from sklearn.preprocessing import LabelEncoder\n",
    "import numpy as np\n",
    "import pickle\n",
    "\n",
    "# Sample new texts\n",
    "new_texts = [\"what is the meaning of life\",\n",
    "             \"open the wikipedia page\",\n",
    "             \"search for capstone\",\n",
    "             \"who is george washington\",\n",
    "             \"go to the next page\",\n",
    "             \"scroll down\"]\n",
    "\n",
    "# Load the tokenizer\n",
    "with open('tokenizer.pkl', 'rb') as f:\n",
    "    tokenizer = pickle.load(f)\n",
    "\n",
    "# Tokenize and pad the new texts\n",
    "new_sequences = tokenizer.texts_to_sequences(new_texts)\n",
    "max_sequence_length = 100  # Same max_sequence_length as used during training\n",
    "new_data = pad_sequences(new_sequences, maxlen=max_sequence_length)\n",
    "\n",
    "# Make predictions\n",
    "predictions = model_eval.predict(new_data)\n",
    "\n",
    "# Convert predictions to class labels (indices)\n",
    "predicted_classes = predictions.argmax(axis=-1)\n",
    "\n",
    "\n"
   ]
  },
  {
   "cell_type": "code",
   "execution_count": 16,
   "metadata": {},
   "outputs": [
    {
     "name": "stdout",
     "output_type": "stream",
     "text": [
      "['SearchQuery' 'OpenSearchResult' 'SearchQuery' 'SearchQuery'\n",
      " 'BrowserCommand' 'BrowserCommand']\n"
     ]
    }
   ],
   "source": [
    "from sklearn.preprocessing import LabelEncoder\n",
    "import numpy as np\n",
    "\n",
    "# Load the label encoder\n",
    "label_encoder = LabelEncoder()\n",
    "label_encoder.classes_ = np.load('classes.npy', allow_pickle=True)\n",
    "\n",
    "# Decode predicted classes\n",
    "predicted_labels = label_encoder.inverse_transform(predicted_classes)\n",
    "print(predicted_labels)"
   ]
  }
 ],
 "metadata": {
  "kernelspec": {
   "display_name": "intent",
   "language": "python",
   "name": "python3"
  },
  "language_info": {
   "codemirror_mode": {
    "name": "ipython",
    "version": 3
   },
   "file_extension": ".py",
   "mimetype": "text/x-python",
   "name": "python",
   "nbconvert_exporter": "python",
   "pygments_lexer": "ipython3",
   "version": "3.12.4"
  }
 },
 "nbformat": 4,
 "nbformat_minor": 2
}
