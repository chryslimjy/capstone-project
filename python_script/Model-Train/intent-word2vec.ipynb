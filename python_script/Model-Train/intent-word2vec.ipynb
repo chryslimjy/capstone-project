{
 "cells": [
  {
   "cell_type": "code",
   "execution_count": 1,
   "metadata": {},
   "outputs": [],
   "source": [
    "import pandas as pd\n",
    "from sklearn.model_selection import train_test_split\n",
    "from tensorflow.keras.preprocessing.text import Tokenizer\n",
    "from tensorflow.keras.preprocessing.sequence import pad_sequences\n",
    "from tensorflow.keras.utils import to_categorical\n",
    "from tensorflow.keras.models import Sequential\n",
    "from tensorflow.keras.layers import Embedding, Conv1D, MaxPooling1D, GlobalMaxPooling1D, Dense, Dropout\n",
    "from sklearn.preprocessing import LabelEncoder\n"
   ]
  },
  {
   "cell_type": "code",
   "execution_count": 2,
   "metadata": {},
   "outputs": [
    {
     "name": "stdout",
     "output_type": "stream",
     "text": [
      "                              command       intent\n",
      "0                      can I eat snow  SearchQuery\n",
      "1         can I drink coffee at night  SearchQuery\n",
      "2            how do I fix my computer  SearchQuery\n",
      "3  where to go during school holidays  SearchQuery\n",
      "4       what are popular places to go  SearchQuery\n"
     ]
    }
   ],
   "source": [
    "train = pd.read_csv(\"queries.csv\")\n",
    "\n",
    "commands = train['command'].values\n",
    "intents = train['intent'].values\n",
    "\n",
    "print(train.head())\n",
    "train['intent'].value_counts(normalize = True)\n",
    "\n",
    "assert train['intent'].isna().sum() == 0, \"There are NaN values in the 'intent' column\"\n",
    "assert train['command'].isna().sum() == 0, \"There are NaN values in the 'command' column\""
   ]
  },
  {
   "cell_type": "code",
   "execution_count": 3,
   "metadata": {},
   "outputs": [],
   "source": [
    "# Tokenize the text\n",
    "tokenizer = Tokenizer()\n",
    "tokenizer.fit_on_texts(commands)\n",
    "sequences = tokenizer.texts_to_sequences(commands)\n",
    "word_index = tokenizer.word_index\n",
    "\n",
    "# Pad sequences\n",
    "max_sequence_length = 100\n",
    "data = pad_sequences(sequences, maxlen=max_sequence_length)\n",
    "\n",
    "# Optionally save the tokenizer for future use\n",
    "import pickle\n",
    "with open('tokenizer.pkl', 'wb') as f:\n",
    "    pickle.dump(tokenizer, f)"
   ]
  },
  {
   "cell_type": "code",
   "execution_count": 4,
   "metadata": {},
   "outputs": [],
   "source": [
    "import numpy as np\n",
    "label_encoder = LabelEncoder()\n",
    "labels = label_encoder.fit_transform(intents)\n",
    "labels = to_categorical(labels)\n",
    "\n",
    "np.save('classes.npy', label_encoder.classes_)"
   ]
  },
  {
   "cell_type": "code",
   "execution_count": 5,
   "metadata": {},
   "outputs": [],
   "source": [
    "# Split data into training and validation sets\n",
    "X_train, X_val, y_train, y_val = train_test_split(data, labels, test_size=0.2, random_state=42)"
   ]
  },
  {
   "cell_type": "code",
   "execution_count": 6,
   "metadata": {},
   "outputs": [],
   "source": [
    "import numpy as np\n",
    "import struct\n",
    "\n",
    "def load_word2vec_format(file_path):\n",
    "    with open(file_path, 'rb') as f:\n",
    "        # Read the number of words and the dimensionality\n",
    "        header = f.readline()\n",
    "        vocab_size, embedding_dim = map(int, header.split())\n",
    "        \n",
    "        # Initialize an empty dictionary for the embeddings\n",
    "        word_embeddings = {}\n",
    "        \n",
    "        # Read each word and its corresponding vector\n",
    "        for _ in range(vocab_size):\n",
    "            # Read the word\n",
    "            word = []\n",
    "            while True:\n",
    "                char = f.read(1)\n",
    "                if char == b' ':\n",
    "                    break\n",
    "                word.append(char)\n",
    "            word = b''.join(word).decode('utf-8')\n",
    "            \n",
    "            # Read the vector\n",
    "            vector = np.array(struct.unpack('f' * embedding_dim, f.read(embedding_dim * 4)))\n",
    "            word_embeddings[word] = vector\n",
    "            \n",
    "    return word_embeddings\n",
    "\n",
    "# Load Word2Vec embeddings\n",
    "word2vec_path = 'GoogleNews-vectors-negative300.bin'\n",
    "word_embeddings = load_word2vec_format(word2vec_path)\n",
    "\n",
    "# Create embedding matrix\n",
    "embedding_dim = 300\n",
    "embedding_matrix = np.zeros((len(word_index) + 1, embedding_dim))\n",
    "\n",
    "for word, i in word_index.items():\n",
    "    embedding_vector = word_embeddings.get(word)\n",
    "    if embedding_vector is not None:\n",
    "        embedding_matrix[i] = embedding_vector\n"
   ]
  },
  {
   "cell_type": "code",
   "execution_count": 7,
   "metadata": {},
   "outputs": [
    {
     "name": "stdout",
     "output_type": "stream",
     "text": [
      "4\n"
     ]
    }
   ],
   "source": [
    "print(len(label_encoder.classes_))"
   ]
  },
  {
   "cell_type": "code",
   "execution_count": 8,
   "metadata": {},
   "outputs": [
    {
     "name": "stderr",
     "output_type": "stream",
     "text": [
      "c:\\Users\\Chrystal Lim\\anaconda3\\envs\\intent\\Lib\\site-packages\\keras\\src\\layers\\core\\embedding.py:90: UserWarning: Argument `input_length` is deprecated. Just remove it.\n",
      "  warnings.warn(\n",
      "c:\\Users\\Chrystal Lim\\anaconda3\\envs\\intent\\Lib\\site-packages\\keras\\src\\layers\\activations\\leaky_relu.py:41: UserWarning: Argument `alpha` is deprecated. Use `negative_slope` instead.\n",
      "  warnings.warn(\n"
     ]
    }
   ],
   "source": [
    "from keras.models import Sequential\n",
    "from tensorflow.keras.regularizers import l2\n",
    "from keras.layers import Embedding, Conv1D, MaxPooling1D, GlobalMaxPooling1D, Dense, Dropout\n",
    "from tensorflow.keras.callbacks import ModelCheckpoint, EarlyStopping, ReduceLROnPlateau\n",
    "from tensorflow.keras.optimizers import RMSprop, Adam, SGD\n",
    "from tensorflow.keras.models import Model\n",
    "from tensorflow.keras.layers import Embedding, Conv1D, MaxPooling1D, Flatten, Dense, Dropout, BatchNormalization, LeakyReLU\n",
    "\n",
    "\n",
    "model = Sequential()\n",
    "model.add(Embedding(len(word_index) + 1, embedding_dim, weights=[embedding_matrix], input_length=max_sequence_length, trainable=False))\n",
    "model.add(Conv1D(filters=64, kernel_size=8))\n",
    "model.add(LeakyReLU(alpha=0.025))\n",
    "model.add(Conv1D(128, 8, padding='same'))\n",
    "model.add(LeakyReLU(alpha=0.02))\n",
    "model.add(Conv1D(128, 8, padding='same'))\n",
    "model.add(LeakyReLU(alpha=0.015))\n",
    "model.add(Conv1D(64, 8, padding='same'))\n",
    "model.add(LeakyReLU(alpha=0.01))\n",
    "model.add(Dropout(0.1))\n",
    "model.add(MaxPooling1D(pool_size=2))\n",
    "model.add(Flatten())\n",
    "\n",
    "model.add(Dense(128))\n",
    "model.add(LeakyReLU(alpha=0.015))\n",
    "model.add(Dense(64))\n",
    "model.add(LeakyReLU(alpha=0.01))\n",
    "model.add(Dense(64))\n",
    "model.add(LeakyReLU(alpha=0.015))\n",
    "model.add(Dense(32, activation='relu'))\n",
    "model.add(BatchNormalization())\n",
    "model.add(Dense(10, activation='relu'))\n",
    "model.add(Dropout(0.35))\n",
    "model.add(Dense(len(label_encoder.classes_), activation='softmax'))\n"
   ]
  },
  {
   "cell_type": "code",
   "execution_count": 9,
   "metadata": {},
   "outputs": [],
   "source": [
    "model_checkpoint_filepath = \"classify_intent_word2vec.keras\"\n",
    "callbacks_checkpoint = ModelCheckpoint(\n",
    "    filepath=model_checkpoint_filepath,\n",
    "    save_weights_only=False,\n",
    "    monitor=\"val_accuracy\",#val_loss\n",
    "    mode=\"max\",#max\n",
    "    save_best_only=True\n",
    ")\n",
    "\n",
    "early_stop = EarlyStopping(\n",
    "    monitor='val_loss',  # Metric to monitor\n",
    "    patience=12,         # Number of epochs to wait for improvement\n",
    "    restore_best_weights=True  # Restore the model weights from the epoch with the best value of the monitored metric\n",
    ")"
   ]
  },
  {
   "cell_type": "code",
   "execution_count": 10,
   "metadata": {},
   "outputs": [
    {
     "name": "stdout",
     "output_type": "stream",
     "text": [
      "Epoch 1/70\n",
      "8/8 - 14s - 2s/step - accuracy: 0.3679 - loss: 1.3749 - val_accuracy: 0.5510 - val_loss: 1.3776\n",
      "Epoch 2/70\n",
      "8/8 - 0s - 36ms/step - accuracy: 0.4715 - loss: 1.2822 - val_accuracy: 0.5918 - val_loss: 1.3601\n",
      "Epoch 3/70\n",
      "8/8 - 0s - 33ms/step - accuracy: 0.5130 - loss: 1.1409 - val_accuracy: 0.6531 - val_loss: 1.3380\n",
      "Epoch 4/70\n",
      "8/8 - 0s - 30ms/step - accuracy: 0.6425 - loss: 1.0346 - val_accuracy: 0.6531 - val_loss: 1.3012\n",
      "Epoch 5/70\n",
      "8/8 - 0s - 27ms/step - accuracy: 0.6321 - loss: 0.9589 - val_accuracy: 0.8163 - val_loss: 1.2675\n",
      "Epoch 6/70\n",
      "8/8 - 0s - 25ms/step - accuracy: 0.6891 - loss: 0.8305 - val_accuracy: 0.7959 - val_loss: 1.2149\n",
      "Epoch 7/70\n",
      "8/8 - 0s - 19ms/step - accuracy: 0.7513 - loss: 0.7768 - val_accuracy: 0.7551 - val_loss: 1.1556\n",
      "Epoch 8/70\n",
      "8/8 - 0s - 20ms/step - accuracy: 0.7824 - loss: 0.6335 - val_accuracy: 0.7755 - val_loss: 1.1298\n",
      "Epoch 9/70\n",
      "8/8 - 0s - 23ms/step - accuracy: 0.7876 - loss: 0.6422 - val_accuracy: 0.7347 - val_loss: 1.0627\n",
      "Epoch 10/70\n",
      "8/8 - 0s - 19ms/step - accuracy: 0.8497 - loss: 0.4677 - val_accuracy: 0.7347 - val_loss: 0.9778\n",
      "Epoch 11/70\n",
      "8/8 - 0s - 23ms/step - accuracy: 0.8705 - loss: 0.4668 - val_accuracy: 0.7959 - val_loss: 0.9511\n",
      "Epoch 12/70\n",
      "8/8 - 0s - 19ms/step - accuracy: 0.8342 - loss: 0.4557 - val_accuracy: 0.7959 - val_loss: 0.9134\n",
      "Epoch 13/70\n",
      "8/8 - 0s - 20ms/step - accuracy: 0.8756 - loss: 0.4023 - val_accuracy: 0.7959 - val_loss: 0.8689\n",
      "Epoch 14/70\n",
      "8/8 - 0s - 19ms/step - accuracy: 0.9119 - loss: 0.3953 - val_accuracy: 0.7959 - val_loss: 0.7923\n",
      "Epoch 15/70\n",
      "8/8 - 0s - 20ms/step - accuracy: 0.9016 - loss: 0.3774 - val_accuracy: 0.6939 - val_loss: 0.7820\n",
      "Epoch 16/70\n",
      "8/8 - 0s - 20ms/step - accuracy: 0.8860 - loss: 0.3928 - val_accuracy: 0.7959 - val_loss: 0.7516\n",
      "Epoch 17/70\n",
      "8/8 - 0s - 21ms/step - accuracy: 0.8964 - loss: 0.3758 - val_accuracy: 0.7755 - val_loss: 0.7283\n",
      "Epoch 18/70\n",
      "8/8 - 0s - 26ms/step - accuracy: 0.9326 - loss: 0.3066 - val_accuracy: 0.7959 - val_loss: 0.6912\n",
      "Epoch 19/70\n",
      "8/8 - 0s - 20ms/step - accuracy: 0.8860 - loss: 0.3399 - val_accuracy: 0.7959 - val_loss: 0.6940\n",
      "Epoch 20/70\n",
      "8/8 - 0s - 24ms/step - accuracy: 0.9016 - loss: 0.3610 - val_accuracy: 0.8163 - val_loss: 0.6233\n",
      "Epoch 21/70\n",
      "8/8 - 0s - 25ms/step - accuracy: 0.9223 - loss: 0.2542 - val_accuracy: 0.7551 - val_loss: 0.6269\n",
      "Epoch 22/70\n",
      "8/8 - 0s - 33ms/step - accuracy: 0.9482 - loss: 0.2578 - val_accuracy: 0.8367 - val_loss: 0.5967\n",
      "Epoch 23/70\n",
      "8/8 - 0s - 24ms/step - accuracy: 0.9223 - loss: 0.2646 - val_accuracy: 0.7959 - val_loss: 0.5951\n",
      "Epoch 24/70\n",
      "8/8 - 0s - 28ms/step - accuracy: 0.9223 - loss: 0.2390 - val_accuracy: 0.8571 - val_loss: 0.5615\n",
      "Epoch 25/70\n",
      "8/8 - 0s - 31ms/step - accuracy: 0.9326 - loss: 0.2894 - val_accuracy: 0.8776 - val_loss: 0.5244\n",
      "Epoch 26/70\n",
      "8/8 - 0s - 22ms/step - accuracy: 0.9067 - loss: 0.2902 - val_accuracy: 0.8776 - val_loss: 0.4857\n",
      "Epoch 27/70\n",
      "8/8 - 0s - 32ms/step - accuracy: 0.9326 - loss: 0.2460 - val_accuracy: 0.8980 - val_loss: 0.4778\n",
      "Epoch 28/70\n",
      "8/8 - 0s - 26ms/step - accuracy: 0.9119 - loss: 0.2575 - val_accuracy: 0.8980 - val_loss: 0.4497\n",
      "Epoch 29/70\n",
      "8/8 - 0s - 21ms/step - accuracy: 0.9171 - loss: 0.2722 - val_accuracy: 0.8980 - val_loss: 0.4435\n",
      "Epoch 30/70\n",
      "8/8 - 0s - 24ms/step - accuracy: 0.9326 - loss: 0.2583 - val_accuracy: 0.8980 - val_loss: 0.4260\n",
      "Epoch 31/70\n",
      "8/8 - 0s - 21ms/step - accuracy: 0.9326 - loss: 0.2280 - val_accuracy: 0.8776 - val_loss: 0.4650\n",
      "Epoch 32/70\n",
      "8/8 - 0s - 20ms/step - accuracy: 0.9171 - loss: 0.2795 - val_accuracy: 0.8980 - val_loss: 0.3890\n",
      "Epoch 33/70\n",
      "8/8 - 0s - 21ms/step - accuracy: 0.9275 - loss: 0.2468 - val_accuracy: 0.8776 - val_loss: 0.4434\n",
      "Epoch 34/70\n",
      "8/8 - 0s - 29ms/step - accuracy: 0.9016 - loss: 0.2473 - val_accuracy: 0.9184 - val_loss: 0.3544\n",
      "Epoch 35/70\n",
      "8/8 - 0s - 23ms/step - accuracy: 0.9223 - loss: 0.2138 - val_accuracy: 0.9184 - val_loss: 0.4487\n",
      "Epoch 36/70\n",
      "8/8 - 0s - 20ms/step - accuracy: 0.9171 - loss: 0.2307 - val_accuracy: 0.8980 - val_loss: 0.3486\n",
      "Epoch 37/70\n",
      "8/8 - 0s - 31ms/step - accuracy: 0.9223 - loss: 0.2358 - val_accuracy: 0.9592 - val_loss: 0.2862\n",
      "Epoch 38/70\n",
      "8/8 - 0s - 25ms/step - accuracy: 0.9534 - loss: 0.2051 - val_accuracy: 0.9592 - val_loss: 0.2963\n",
      "Epoch 39/70\n",
      "8/8 - 0s - 24ms/step - accuracy: 0.9482 - loss: 0.1820 - val_accuracy: 0.9388 - val_loss: 0.2974\n",
      "Epoch 40/70\n",
      "8/8 - 0s - 21ms/step - accuracy: 0.9171 - loss: 0.2273 - val_accuracy: 0.9388 - val_loss: 0.2857\n",
      "Epoch 41/70\n",
      "8/8 - 0s - 23ms/step - accuracy: 0.9430 - loss: 0.2211 - val_accuracy: 0.9184 - val_loss: 0.2897\n",
      "Epoch 42/70\n",
      "8/8 - 0s - 23ms/step - accuracy: 0.9430 - loss: 0.1800 - val_accuracy: 0.8980 - val_loss: 0.3223\n",
      "Epoch 43/70\n",
      "8/8 - 0s - 23ms/step - accuracy: 0.9482 - loss: 0.2028 - val_accuracy: 0.8980 - val_loss: 0.3112\n",
      "Epoch 44/70\n",
      "8/8 - 0s - 22ms/step - accuracy: 0.9275 - loss: 0.2009 - val_accuracy: 0.9184 - val_loss: 0.2799\n",
      "Epoch 45/70\n",
      "8/8 - 0s - 20ms/step - accuracy: 0.9534 - loss: 0.1475 - val_accuracy: 0.9388 - val_loss: 0.2779\n",
      "Epoch 46/70\n",
      "8/8 - 0s - 23ms/step - accuracy: 0.9637 - loss: 0.1382 - val_accuracy: 0.9388 - val_loss: 0.2886\n",
      "Epoch 47/70\n",
      "8/8 - 0s - 23ms/step - accuracy: 0.9534 - loss: 0.2072 - val_accuracy: 0.9388 - val_loss: 0.2753\n",
      "Epoch 48/70\n",
      "8/8 - 0s - 22ms/step - accuracy: 0.9378 - loss: 0.1673 - val_accuracy: 0.9388 - val_loss: 0.2647\n",
      "Epoch 49/70\n",
      "8/8 - 0s - 24ms/step - accuracy: 0.9378 - loss: 0.1848 - val_accuracy: 0.9388 - val_loss: 0.2445\n",
      "Epoch 50/70\n",
      "8/8 - 0s - 20ms/step - accuracy: 0.9171 - loss: 0.2193 - val_accuracy: 0.8980 - val_loss: 0.2952\n",
      "Epoch 51/70\n",
      "8/8 - 0s - 21ms/step - accuracy: 0.9171 - loss: 0.2004 - val_accuracy: 0.8980 - val_loss: 0.2914\n",
      "Epoch 52/70\n",
      "8/8 - 0s - 20ms/step - accuracy: 0.9534 - loss: 0.1493 - val_accuracy: 0.9388 - val_loss: 0.2611\n",
      "Epoch 53/70\n",
      "8/8 - 0s - 24ms/step - accuracy: 0.9326 - loss: 0.2039 - val_accuracy: 0.9388 - val_loss: 0.2733\n",
      "Epoch 54/70\n",
      "8/8 - 0s - 22ms/step - accuracy: 0.9482 - loss: 0.1728 - val_accuracy: 0.9184 - val_loss: 0.3370\n",
      "Epoch 55/70\n",
      "8/8 - 0s - 22ms/step - accuracy: 0.9689 - loss: 0.1219 - val_accuracy: 0.9184 - val_loss: 0.3506\n",
      "Epoch 56/70\n",
      "8/8 - 0s - 23ms/step - accuracy: 0.9689 - loss: 0.1120 - val_accuracy: 0.9184 - val_loss: 0.3440\n",
      "Epoch 57/70\n",
      "8/8 - 0s - 23ms/step - accuracy: 0.9326 - loss: 0.1809 - val_accuracy: 0.9184 - val_loss: 0.3210\n",
      "Epoch 58/70\n",
      "8/8 - 0s - 22ms/step - accuracy: 0.9067 - loss: 0.2295 - val_accuracy: 0.9388 - val_loss: 0.2864\n",
      "Epoch 59/70\n",
      "8/8 - 0s - 22ms/step - accuracy: 0.9326 - loss: 0.1834 - val_accuracy: 0.9388 - val_loss: 0.2765\n",
      "Epoch 60/70\n",
      "8/8 - 0s - 27ms/step - accuracy: 0.9067 - loss: 0.1944 - val_accuracy: 0.9388 - val_loss: 0.2994\n",
      "Epoch 61/70\n",
      "8/8 - 0s - 26ms/step - accuracy: 0.9585 - loss: 0.1376 - val_accuracy: 0.9184 - val_loss: 0.3188\n"
     ]
    }
   ],
   "source": [
    "optimizer = Adam(learning_rate=0.00028)\n",
    "model.compile(loss='categorical_crossentropy', optimizer=optimizer, metrics=['accuracy'])\n",
    "2\n",
    "# Train the model\n",
    "history = model.fit(X_train, y_train, epochs=70, batch_size=25, validation_data=(X_val, y_val), verbose=2, callbacks=[callbacks_checkpoint,early_stop])\n"
   ]
  },
  {
   "cell_type": "markdown",
   "metadata": {},
   "source": [
    "Plot graph\n"
   ]
  },
  {
   "cell_type": "code",
   "execution_count": 11,
   "metadata": {},
   "outputs": [],
   "source": [
    "import pylab as plt"
   ]
  },
  {
   "cell_type": "code",
   "execution_count": 12,
   "metadata": {},
   "outputs": [
    {
     "name": "stdout",
     "output_type": "stream",
     "text": [
      "\u001b[1m2/2\u001b[0m \u001b[32m━━━━━━━━━━━━━━━━━━━━\u001b[0m\u001b[37m\u001b[0m \u001b[1m0s\u001b[0m 14ms/step - accuracy: 0.9384 - loss: 0.2330\n"
     ]
    },
    {
     "data": {
      "text/plain": [
       "[0.24450337886810303, 0.9387755393981934]"
      ]
     },
     "execution_count": 12,
     "metadata": {},
     "output_type": "execute_result"
    }
   ],
   "source": [
    "model.evaluate(X_val,y_val)"
   ]
  },
  {
   "cell_type": "code",
   "execution_count": 13,
   "metadata": {},
   "outputs": [
    {
     "data": {
      "image/png": "[encoded data removed]",
      "text/plain": [
       "<Figure size 640x480 with 1 Axes>"
      ]
     },
     "metadata": {},
     "output_type": "display_data"
    },
    {
     "data": {
      "image/png": "[encoded data removed]",
      "text/plain": [
       "<Figure size 640x480 with 1 Axes>"
      ]
     },
     "metadata": {},
     "output_type": "display_data"
    }
   ],
   "source": [
    "def plot_history(history):\n",
    "  plt.plot(history.history['accuracy'])\n",
    "  plt.plot(history.history['val_accuracy'])\n",
    "  plt.ylabel('loss')\n",
    "  plt.xlabel('epoch')\n",
    "  plt.legend(['train', 'val'], loc='upper left')\n",
    "  plt.show()\n",
    "\n",
    "plot_history(history)\n",
    "\n",
    "def plot_history(history):\n",
    "  plt.plot(history.history['loss'])\n",
    "  plt.plot(history.history['val_loss'])\n",
    "  plt.ylabel('loss')\n",
    "  plt.xlabel('epoch')\n",
    "  plt.legend(['train', 'val'], loc='upper left')\n",
    "  plt.show()\n",
    "\n",
    "plot_history(history)"
   ]
  },
  {
   "cell_type": "code",
   "execution_count": 14,
   "metadata": {},
   "outputs": [
    {
     "name": "stdout",
     "output_type": "stream",
     "text": [
      "\u001b[1m2/2\u001b[0m \u001b[32m━━━━━━━━━━━━━━━━━━━━\u001b[0m\u001b[37m\u001b[0m \u001b[1m0s\u001b[0m 97ms/step\n",
      "Precision: 0.8875\n",
      "Recall: 0.8916666666666666\n",
      "Precision per class: [0.8  0.75 1.   1.  ]\n",
      "Recall per class: [0.66666667 1.         1.         0.9       ]\n"
     ]
    }
   ],
   "source": [
    "y_pred = model.predict(X_val)\n",
    "y_pred_labels = np.argmax(y_pred, axis=1)\n",
    "y_val_labels = np.argmax(y_val, axis=1)\n",
    "\n",
    "from sklearn.metrics import precision_score, recall_score\n",
    "\n",
    "precision = precision_score(y_val_labels, y_pred_labels, average='macro')\n",
    "recall = recall_score(y_val_labels, y_pred_labels, average='macro')\n",
    "\n",
    "print(f\"Precision: {precision}\")\n",
    "print(f\"Recall: {recall}\")\n",
    "\n",
    "precision_per_class = precision_score(y_val_labels, y_pred_labels, average=None)\n",
    "recall_per_class = recall_score(y_val_labels, y_pred_labels, average=None)\n",
    "\n",
    "print(f\"Precision per class: {precision_per_class}\")\n",
    "print(f\"Recall per class: {recall_per_class}\")\n",
    "\n"
   ]
  },
  {
   "cell_type": "code",
   "execution_count": 15,
   "metadata": {},
   "outputs": [],
   "source": [
    "from tensorflow.keras.models import load_model\n",
    "model_eval = load_model('classify_intent_word2vec.keras')"
   ]
  },
  {
   "cell_type": "code",
   "execution_count": 16,
   "metadata": {},
   "outputs": [
    {
     "name": "stdout",
     "output_type": "stream",
     "text": [
      "\u001b[1m1/1\u001b[0m \u001b[32m━━━━━━━━━━━━━━━━━━━━\u001b[0m\u001b[37m\u001b[0m \u001b[1m0s\u001b[0m 107ms/step\n"
     ]
    }
   ],
   "source": [
    "from tensorflow.keras.preprocessing.text import Tokenizer\n",
    "from tensorflow.keras.preprocessing.sequence import pad_sequences\n",
    "from sklearn.preprocessing import LabelEncoder\n",
    "import numpy as np\n",
    "import pickle\n",
    "\n",
    "# Sample new texts\n",
    "new_texts = [\"what is the meaning of life\",\n",
    "             \"open the wikipedia page\",\n",
    "             \"search for capstone\",\n",
    "             \"who is george washington\",\n",
    "             \"go to the next page\",\n",
    "             \"scroll down\"]\n",
    "\n",
    "# Load the tokenizer\n",
    "with open('tokenizer.pkl', 'rb') as f:\n",
    "    tokenizer = pickle.load(f)\n",
    "\n",
    "# Tokenize and pad the new texts\n",
    "new_sequences = tokenizer.texts_to_sequences(new_texts)\n",
    "max_sequence_length = 100  # Same max_sequence_length as used during training\n",
    "new_data = pad_sequences(new_sequences, maxlen=max_sequence_length)\n",
    "\n",
    "# Make predictions\n",
    "predictions = model_eval.predict(new_data)\n",
    "\n",
    "# Convert predictions to class labels (indices)\n",
    "predicted_classes = predictions.argmax(axis=-1)\n",
    "\n",
    "\n"
   ]
  },
  {
   "cell_type": "code",
   "execution_count": 17,
   "metadata": {},
   "outputs": [
    {
     "name": "stdout",
     "output_type": "stream",
     "text": [
      "['SearchQuery' 'OpenSearchResult' 'SearchQuery' 'SearchQuery'\n",
      " 'BrowserCommand' 'BrowserCommand']\n"
     ]
    }
   ],
   "source": [
    "from sklearn.preprocessing import LabelEncoder\n",
    "import numpy as np\n",
    "\n",
    "# Load the label encoder\n",
    "label_encoder = LabelEncoder()\n",
    "label_encoder.classes_ = np.load('classes.npy', allow_pickle=True)\n",
    "\n",
    "# Decode predicted classes\n",
    "predicted_labels = label_encoder.inverse_transform(predicted_classes)\n",
    "print(predicted_labels)"
   ]
  }
 ],
 "metadata": {
  "kernelspec": {
   "display_name": "intent",
   "language": "python",
   "name": "python3"
  },
  "language_info": {
   "codemirror_mode": {
    "name": "ipython",
    "version": 3
   },
   "file_extension": ".py",
   "mimetype": "text/x-python",
   "name": "python",
   "nbconvert_exporter": "python",
   "pygments_lexer": "ipython3",
   "version": "3.12.4"
  }
 },
 "nbformat": 4,
 "nbformat_minor": 2
}
